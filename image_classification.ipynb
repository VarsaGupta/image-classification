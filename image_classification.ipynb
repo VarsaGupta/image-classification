{
  "nbformat": 4,
  "nbformat_minor": 0,
  "metadata": {
    "colab": {
      "provenance": [],
      "authorship_tag": "ABX9TyOsnWaNnNgJAC/dmgjjCUk2",
      "include_colab_link": true
    },
    "kernelspec": {
      "name": "python3",
      "display_name": "Python 3"
    },
    "language_info": {
      "name": "python"
    }
  },
  "cells": [
    {
      "cell_type": "markdown",
      "metadata": {
        "id": "view-in-github",
        "colab_type": "text"
      },
      "source": [
        "<a href=\"https://colab.research.google.com/github/VarsaGupta/image-classification/blob/main/image_classification.ipynb\" target=\"_parent\"><img src=\"https://colab.research.google.com/assets/colab-badge.svg\" alt=\"Open In Colab\"/></a>"
      ]
    },
    {
      "cell_type": "code",
      "execution_count": null,
      "metadata": {
        "id": "UdGVHgrfTGpP"
      },
      "outputs": [],
      "source": [
        "import tensorflow as tf\n",
        "from tensorflow import keras\n",
        "import matplotlib.pyplot as plt\n",
        "%matplotlib inline\n",
        "import numpy as np"
      ]
    },
    {
      "cell_type": "code",
      "source": [
        "(X_train, y_train) , (X_test, y_test) = keras.datasets.mnist.load_data()"
      ],
      "metadata": {
        "colab": {
          "base_uri": "https://localhost:8080/"
        },
        "id": "5XsNkuwyTNI3",
        "outputId": "c287bc2f-3dcc-417a-88d3-ebed3bc4ae49"
      },
      "execution_count": null,
      "outputs": [
        {
          "output_type": "stream",
          "name": "stdout",
          "text": [
            "Downloading data from https://storage.googleapis.com/tensorflow/tf-keras-datasets/mnist.npz\n",
            "11490434/11490434 [==============================] - 1s 0us/step\n"
          ]
        }
      ]
    },
    {
      "cell_type": "code",
      "source": [
        "len(X_train)"
      ],
      "metadata": {
        "colab": {
          "base_uri": "https://localhost:8080/"
        },
        "id": "iyGvAda3TNQv",
        "outputId": "c6ba82cf-809e-4f66-be8d-997fce4cdd82"
      },
      "execution_count": null,
      "outputs": [
        {
          "output_type": "execute_result",
          "data": {
            "text/plain": [
              "60000"
            ]
          },
          "metadata": {},
          "execution_count": 3
        }
      ]
    },
    {
      "cell_type": "code",
      "source": [
        "len(X_test)"
      ],
      "metadata": {
        "colab": {
          "base_uri": "https://localhost:8080/"
        },
        "id": "oTzM19j_TVkI",
        "outputId": "de6d1742-ceb4-44a9-84ad-58da96624260"
      },
      "execution_count": null,
      "outputs": [
        {
          "output_type": "execute_result",
          "data": {
            "text/plain": [
              "10000"
            ]
          },
          "metadata": {},
          "execution_count": 4
        }
      ]
    },
    {
      "cell_type": "code",
      "source": [
        "X_train[0].shape"
      ],
      "metadata": {
        "colab": {
          "base_uri": "https://localhost:8080/"
        },
        "id": "YWi7AZ4MTVo2",
        "outputId": "de0c71c0-8739-41c9-894f-01e1f127a3cc"
      },
      "execution_count": null,
      "outputs": [
        {
          "output_type": "execute_result",
          "data": {
            "text/plain": [
              "(28, 28)"
            ]
          },
          "metadata": {},
          "execution_count": 5
        }
      ]
    },
    {
      "cell_type": "code",
      "source": [
        "plt.matshow(X_train[0])"
      ],
      "metadata": {
        "colab": {
          "base_uri": "https://localhost:8080/",
          "height": 455
        },
        "id": "YoDNPiohTVsT",
        "outputId": "c5e733fe-d2d1-481b-e62c-b2cefd793b06"
      },
      "execution_count": null,
      "outputs": [
        {
          "output_type": "execute_result",
          "data": {
            "text/plain": [
              "<matplotlib.image.AxesImage at 0x7ad436044280>"
            ]
          },
          "metadata": {},
          "execution_count": 6
        },
        {
          "output_type": "display_data",
          "data": {
            "text/plain": [
              "<Figure size 480x480 with 1 Axes>"
            ],
            "image/png": "[encoded data removed]"
          },
          "metadata": {}
        }
      ]
    },
    {
      "cell_type": "code",
      "source": [
        "y_train[0]"
      ],
      "metadata": {
        "colab": {
          "base_uri": "https://localhost:8080/"
        },
        "id": "kUCAk3H7TVvH",
        "outputId": "06105662-74ca-4f4d-f249-e7a11e8c0416"
      },
      "execution_count": null,
      "outputs": [
        {
          "output_type": "execute_result",
          "data": {
            "text/plain": [
              "5"
            ]
          },
          "metadata": {},
          "execution_count": 7
        }
      ]
    },
    {
      "cell_type": "code",
      "source": [
        "X_train = X_train / 255\n",
        "X_test = X_test / 255"
      ],
      "metadata": {
        "id": "ySbb9slGTjab"
      },
      "execution_count": null,
      "outputs": []
    },
    {
      "cell_type": "code",
      "source": [
        "X_train_flattened = X_train.reshape(len(X_train), 28*28)\n",
        "X_test_flattened = X_test.reshape(len(X_test), 28*28)"
      ],
      "metadata": {
        "id": "QxBeSVnJTjdo"
      },
      "execution_count": null,
      "outputs": []
    },
    {
      "cell_type": "code",
      "source": [
        "X_train_flattened.shape"
      ],
      "metadata": {
        "colab": {
          "base_uri": "https://localhost:8080/"
        },
        "id": "vpqViOZATjiW",
        "outputId": "49c99366-3f7a-4fc1-b10f-9469553b9d51"
      },
      "execution_count": null,
      "outputs": [
        {
          "output_type": "execute_result",
          "data": {
            "text/plain": [
              "(60000, 784)"
            ]
          },
          "metadata": {},
          "execution_count": 10
        }
      ]
    },
    {
      "cell_type": "code",
      "source": [
        "# Using Flatten layer so that we don't have to call .reshape on input dataset\n",
        "\n",
        "\n",
        "model = keras.Sequential([\n",
        "    keras.layers.Flatten(input_shape=(28, 28)),\n",
        "    keras.layers.Dense(100, activation='relu'),\n",
        "    keras.layers.Dense(10, activation='sigmoid')\n",
        "])\n",
        "\n",
        "model.compile(optimizer='SGD',\n",
        "              loss='sparse_categorical_crossentropy',\n",
        "              metrics=['accuracy'])\n",
        "\n",
        "tb_callback = tf.keras.callbacks.TensorBoard(log_dir=\"logs/\", histogram_freq=1)\n",
        "\n",
        "model.fit(X_train, y_train, epochs=5, callbacks=[tb_callback])"
      ],
      "metadata": {
        "colab": {
          "base_uri": "https://localhost:8080/"
        },
        "id": "y0NpbxO1T_wX",
        "outputId": "df07014c-9780-424f-fe25-57ced7e7d2a9"
      },
      "execution_count": null,
      "outputs": [
        {
          "output_type": "stream",
          "name": "stdout",
          "text": [
            "Epoch 1/5\n",
            "1875/1875 [==============================] - 7s 4ms/step - loss: 0.6549 - accuracy: 0.8331\n",
            "Epoch 2/5\n",
            "1875/1875 [==============================] - 7s 3ms/step - loss: 0.3374 - accuracy: 0.9065\n",
            "Epoch 3/5\n",
            "1875/1875 [==============================] - 6s 3ms/step - loss: 0.2908 - accuracy: 0.9183\n",
            "Epoch 4/5\n",
            "1875/1875 [==============================] - 6s 3ms/step - loss: 0.2629 - accuracy: 0.9259\n",
            "Epoch 5/5\n",
            "1875/1875 [==============================] - 6s 3ms/step - loss: 0.2411 - accuracy: 0.9327\n"
          ]
        },
        {
          "output_type": "execute_result",
          "data": {
            "text/plain": [
              "<keras.callbacks.History at 0x7ad436173460>"
            ]
          },
          "metadata": {},
          "execution_count": 13
        }
      ]
    },
    {
      "cell_type": "code",
      "source": [
        "# %load_ext tensorboard\n",
        "# %tensorboard --logdir logs/fit"
      ],
      "metadata": {
        "id": "7NlsDlcbT_0R"
      },
      "execution_count": null,
      "outputs": []
    },
    {
      "cell_type": "code",
      "source": [
        "model.get_weights()"
      ],
      "metadata": {
        "colab": {
          "base_uri": "https://localhost:8080/"
        },
        "id": "7-PRh1pXT_33",
        "outputId": "5f723480-fad8-4b90-8d1a-e8ad2774775d"
      },
      "execution_count": null,
      "outputs": [
        {
          "output_type": "execute_result",
          "data": {
            "text/plain": [
              "[array([[-0.00091391,  0.02771427, -0.05190828, ..., -0.0391442 ,\n",
              "         -0.0730942 , -0.0547471 ],\n",
              "        [-0.05730819, -0.052602  , -0.03362399, ..., -0.05102163,\n",
              "         -0.04832541,  0.08075951],\n",
              "        [ 0.0358363 , -0.01617578, -0.0612455 , ..., -0.07226714,\n",
              "          0.06951615, -0.04584014],\n",
              "        ...,\n",
              "        [ 0.05123836, -0.04314245, -0.0782233 , ...,  0.03041536,\n",
              "          0.00909723, -0.01900251],\n",
              "        [ 0.03453499, -0.01553342, -0.07746372, ...,  0.01509759,\n",
              "         -0.03438212, -0.03072981],\n",
              "        [-0.01694416, -0.0201327 ,  0.02877233, ..., -0.0132985 ,\n",
              "          0.02867343, -0.06910269]], dtype=float32),\n",
              " array([-1.02458503e-02,  1.09626474e-02,  2.90750656e-02,  6.64634956e-03,\n",
              "         7.07632080e-02,  1.62425712e-01, -5.76851033e-02, -1.23250941e-02,\n",
              "        -1.47166848e-02,  3.08759063e-02,  1.93530861e-02,  5.65705821e-02,\n",
              "        -2.13978849e-02,  1.10750310e-02, -2.75071338e-03,  6.65100217e-02,\n",
              "        -1.19152041e-02,  3.66287604e-02,  1.53404586e-02,  1.01760268e-01,\n",
              "         3.37557606e-02,  1.12948425e-01,  2.31254604e-02, -1.05626527e-02,\n",
              "         8.14384520e-02,  6.60783201e-02, -2.93901302e-02, -8.65060184e-03,\n",
              "         1.05608433e-01,  2.06746552e-02, -5.96934184e-02, -7.97927901e-02,\n",
              "         1.38341263e-02,  6.58225268e-02,  1.22240121e-02,  4.62874696e-02,\n",
              "         4.48850356e-02,  5.53392507e-02,  1.18711263e-01,  2.32415777e-02,\n",
              "         6.14506640e-02,  1.76719658e-03,  7.40074143e-02,  6.01842208e-03,\n",
              "         5.68376929e-02,  1.13143735e-01,  5.97829111e-02,  1.03724279e-01,\n",
              "        -7.75856758e-03, -3.49879824e-02,  9.20172781e-03, -1.47006484e-02,\n",
              "         3.06020267e-02,  1.09640859e-01,  1.75044760e-02,  4.78831725e-03,\n",
              "        -2.73835137e-02,  3.20011139e-04, -3.60566750e-02,  5.05331270e-02,\n",
              "         2.99508534e-02,  4.98217484e-03,  1.02935351e-01, -4.13832217e-02,\n",
              "         1.10138401e-01,  6.49444982e-02,  2.83689387e-02, -6.18858300e-02,\n",
              "        -5.24732955e-02,  2.97754202e-02, -3.44689377e-02,  9.84381214e-02,\n",
              "         3.48988548e-02,  1.64499059e-02,  7.39801750e-02, -6.32884633e-03,\n",
              "        -2.96120699e-02, -3.67141794e-03,  1.11625902e-02,  3.11804004e-02,\n",
              "         1.00484174e-02, -4.24355902e-02, -1.21496087e-02,  3.01284126e-05,\n",
              "        -1.94517486e-02, -8.88533071e-02,  3.13288420e-02,  2.85028238e-02,\n",
              "         8.37870128e-03, -5.93658071e-03,  7.32695609e-02,  1.08049018e-02,\n",
              "        -1.08783515e-02,  7.29467273e-02,  5.08555919e-02,  2.83831544e-02,\n",
              "         1.56334508e-02,  1.46131217e-03, -4.46350052e-04,  6.25929087e-02],\n",
              "       dtype=float32),\n",
              " array([[ 3.65486205e-01, -2.28855059e-01,  3.81567001e-01,\n",
              "         -3.06563169e-01, -2.25501750e-02, -3.76356542e-01,\n",
              "          1.20454572e-01, -3.23348224e-01, -3.92319530e-01,\n",
              "          2.52558291e-01],\n",
              "        [ 9.75324120e-03,  1.27083689e-01,  3.59942280e-02,\n",
              "         -2.15183631e-01,  6.25936463e-02,  7.47506991e-02,\n",
              "         -1.58224493e-01, -2.15028487e-02, -1.19944356e-01,\n",
              "         -2.54231691e-01],\n",
              "        [-2.28556454e-01, -1.10950597e-01,  1.01605460e-01,\n",
              "         -1.83495775e-01, -5.27601801e-02, -2.46254146e-01,\n",
              "          3.77415270e-01,  2.60539800e-01, -1.55284837e-01,\n",
              "          7.16627063e-03],\n",
              "        [-7.29412064e-02,  2.04620659e-01,  1.57983541e-01,\n",
              "          1.20106474e-01, -8.54227766e-02,  2.39797473e-01,\n",
              "         -5.52383214e-02,  1.19740017e-01,  7.71418139e-02,\n",
              "          1.35645792e-01],\n",
              "        [-6.59247562e-02, -1.38652861e-01, -1.74633175e-01,\n",
              "         -1.80805787e-01,  1.31142735e-01,  3.81494433e-01,\n",
              "         -2.93491066e-01, -3.18278708e-02,  1.74098015e-01,\n",
              "         -3.31501395e-01],\n",
              "        [-2.63383538e-01,  2.77089328e-01, -4.15702969e-01,\n",
              "         -2.89859623e-01,  4.19576168e-01,  4.42351133e-01,\n",
              "          3.29706103e-01,  2.96029240e-01, -2.27011800e-01,\n",
              "         -1.61111906e-01],\n",
              "        [ 2.52851956e-02,  1.85529143e-01, -2.30009511e-01,\n",
              "         -1.79216027e-01,  9.61493030e-02, -2.18219578e-01,\n",
              "         -1.04802791e-02, -1.16056845e-01,  3.20982248e-01,\n",
              "          2.78396040e-01],\n",
              "        [-1.77930549e-01,  9.42021757e-02,  1.80448711e-01,\n",
              "         -1.02922894e-01,  2.49561027e-01, -4.27026600e-01,\n",
              "         -8.19813609e-02,  2.08545163e-01,  6.66224435e-02,\n",
              "         -8.32916126e-02],\n",
              "        [ 3.39682698e-01,  7.90914372e-02,  1.12637831e-02,\n",
              "          2.96294272e-01, -9.37930569e-02, -3.27798694e-01,\n",
              "         -1.59516916e-01,  1.09666750e-01, -2.36981079e-01,\n",
              "          4.60270047e-02],\n",
              "        [-3.54114734e-02,  2.50866301e-02, -2.20312133e-01,\n",
              "         -1.19803980e-01,  1.48336902e-01,  2.35827807e-02,\n",
              "          1.68992683e-01,  1.52161717e-01,  1.50444999e-01,\n",
              "          4.94806133e-02],\n",
              "        [-1.23911001e-01, -2.08909452e-01, -3.60336572e-01,\n",
              "          4.41365927e-01, -3.15096140e-01,  6.06255978e-02,\n",
              "         -5.68973780e-01,  3.02940756e-01,  1.16904691e-01,\n",
              "          3.03173959e-01],\n",
              "        [ 1.39012858e-01,  2.68378019e-01,  2.72164103e-02,\n",
              "         -2.97213465e-01, -6.87920153e-02, -6.78672548e-03,\n",
              "         -1.36751279e-01,  2.30167598e-01, -1.35375395e-01,\n",
              "         -9.48440507e-02],\n",
              "        [ 2.40920603e-01, -1.51637286e-01,  9.82332602e-02,\n",
              "          2.40560248e-01,  2.65062191e-02, -2.59001583e-01,\n",
              "          2.38499105e-01, -1.68566912e-01, -3.64406526e-01,\n",
              "          1.25308177e-02],\n",
              "        [ 1.22967009e-02, -2.23011270e-01,  1.21844701e-01,\n",
              "         -2.37675264e-01,  4.23045248e-01, -2.16647953e-01,\n",
              "          3.45802635e-01, -2.11891711e-01, -1.47900790e-01,\n",
              "         -4.28033650e-01],\n",
              "        [ 8.33662972e-03, -2.34135777e-01, -1.66054904e-01,\n",
              "         -8.50817859e-02,  3.06200892e-01, -3.05811346e-01,\n",
              "          2.49444962e-01,  1.25743464e-01,  4.54624705e-02,\n",
              "         -1.86694816e-01],\n",
              "        [-8.25312138e-02, -2.82249928e-01,  2.26408482e-01,\n",
              "         -1.44085407e-01, -2.40347669e-01,  2.96203882e-01,\n",
              "          9.86422896e-02,  2.65483618e-01, -3.29577178e-01,\n",
              "         -1.66496918e-01],\n",
              "        [ 1.61442935e-01,  1.55446708e-01, -1.93725210e-02,\n",
              "         -4.00146209e-02,  9.96916816e-02, -5.78508675e-02,\n",
              "          5.29008098e-02, -1.02651924e-01,  5.78527246e-03,\n",
              "          2.24273920e-01],\n",
              "        [-2.06898168e-01,  3.75983000e-01, -3.58963311e-01,\n",
              "         -3.33396941e-02, -9.01821628e-02, -2.35269621e-01,\n",
              "         -2.23320067e-01,  8.83666873e-02, -6.72226921e-02,\n",
              "          5.37014306e-02],\n",
              "        [ 6.11964194e-03,  3.16125453e-01,  3.37551415e-01,\n",
              "          6.74755648e-02, -2.63447374e-01, -1.93116575e-01,\n",
              "          1.74133167e-01, -1.90710634e-01,  1.96529403e-02,\n",
              "          1.71644181e-01],\n",
              "        [ 4.20045033e-02, -1.33811533e-01, -9.53654572e-02,\n",
              "         -6.26866668e-02,  4.07657534e-01,  2.34924316e-01,\n",
              "         -3.51471156e-01,  3.62770259e-01, -9.82830897e-02,\n",
              "          1.40595242e-01],\n",
              "        [-2.05348358e-01, -2.05574527e-01,  8.97404179e-02,\n",
              "         -6.21110294e-03,  2.81682909e-01,  5.76379858e-02,\n",
              "         -9.27092880e-03, -1.41799137e-01,  4.86409217e-02,\n",
              "         -1.97706342e-01],\n",
              "        [ 3.61609831e-02,  3.10839802e-01,  4.58703190e-02,\n",
              "         -2.28312910e-02,  1.78321838e-01,  4.05320376e-01,\n",
              "         -1.00820035e-01,  2.43827194e-01, -4.76895958e-01,\n",
              "         -8.24440494e-02],\n",
              "        [-5.53769642e-04,  3.23951513e-01, -2.25848854e-01,\n",
              "          1.95760086e-01,  1.51726499e-01, -3.92947197e-02,\n",
              "         -1.79940939e-01, -2.97992229e-01,  1.10737644e-02,\n",
              "          2.09426507e-01],\n",
              "        [ 1.90137804e-01,  1.85308740e-01,  1.65811926e-01,\n",
              "          3.60922635e-01, -2.22989097e-01, -2.44474113e-01,\n",
              "          1.04927063e-01,  7.61617124e-02,  8.54768902e-02,\n",
              "          6.68635443e-02],\n",
              "        [-3.02188933e-01,  2.88451510e-03,  2.33032018e-01,\n",
              "          1.61149606e-01, -5.73486164e-02,  1.33788824e-01,\n",
              "          2.58997142e-01, -1.48663044e-01, -3.34994458e-02,\n",
              "         -5.21151364e-01],\n",
              "        [-3.26394588e-01, -1.65126786e-01, -5.89734726e-02,\n",
              "          3.29892784e-01,  2.47505009e-01,  1.78416714e-01,\n",
              "         -1.56093150e-01, -1.05783120e-01, -1.16588481e-01,\n",
              "         -1.61086485e-01],\n",
              "        [-8.23332220e-02, -6.93117157e-02, -1.14528574e-01,\n",
              "          2.59428799e-01,  8.62719258e-04, -3.91938761e-02,\n",
              "         -1.79825231e-01,  1.53243216e-02,  1.10209763e-01,\n",
              "          6.24318756e-02],\n",
              "        [-2.08693847e-01, -6.74972013e-02, -1.16376616e-01,\n",
              "          1.69357270e-01,  1.85027868e-01, -6.59204498e-02,\n",
              "         -5.21057881e-02,  2.30773866e-01,  2.37361453e-02,\n",
              "          1.68836802e-01],\n",
              "        [-1.92574725e-01, -1.52379602e-01, -7.01590925e-02,\n",
              "         -2.31078401e-01, -1.48480132e-01,  2.55981922e-01,\n",
              "         -2.48980433e-01,  3.17883819e-01, -2.58893728e-01,\n",
              "         -1.46309689e-01],\n",
              "        [-1.94473386e-01,  1.64898768e-01,  2.11424664e-01,\n",
              "          1.52820259e-01, -9.21219662e-02,  1.10816471e-01,\n",
              "         -2.50403315e-01, -1.70997232e-02, -5.05789444e-02,\n",
              "          1.07900657e-01],\n",
              "        [-6.33426979e-02, -2.96225429e-01,  3.78074586e-01,\n",
              "          5.21432310e-02, -3.21808785e-01, -2.65412033e-01,\n",
              "         -2.57779509e-01,  2.67267317e-01,  1.65704992e-02,\n",
              "         -1.82887092e-02],\n",
              "        [ 1.22417584e-01, -1.13778852e-01,  1.27222002e-01,\n",
              "         -6.82072118e-02, -1.12541266e-01, -2.29452640e-01,\n",
              "         -5.80209531e-02, -1.60334885e-01,  1.73193321e-01,\n",
              "         -1.16448417e-01],\n",
              "        [ 9.92745310e-02, -1.27710208e-01, -1.16228826e-01,\n",
              "         -1.51830927e-01,  1.48571193e-01,  4.64494862e-02,\n",
              "          8.46078545e-02,  1.06493600e-01, -3.02439258e-02,\n",
              "         -1.50007069e-01],\n",
              "        [-2.34512955e-01,  1.38601184e-01,  3.95581782e-01,\n",
              "          3.46424029e-04,  3.23258430e-01,  7.30238035e-02,\n",
              "         -2.39720613e-01, -1.64244086e-01, -3.33587766e-01,\n",
              "          2.07519829e-01],\n",
              "        [ 1.96143258e-02, -1.11702368e-01,  2.01382507e-02,\n",
              "          1.87187880e-01,  1.86527818e-01, -3.69641215e-01,\n",
              "         -4.80719954e-02,  4.30950046e-01, -1.21987678e-01,\n",
              "          1.41160607e-01],\n",
              "        [ 1.92570880e-01,  1.35813162e-01, -2.27286428e-01,\n",
              "          1.50496647e-01, -2.78282821e-01, -6.06111661e-02,\n",
              "         -4.74746861e-02,  1.04141168e-01, -2.67976046e-01,\n",
              "         -2.97655594e-02],\n",
              "        [ 5.83987720e-02,  1.25144526e-01, -2.16068789e-01,\n",
              "          1.09685615e-01, -1.95026845e-01,  4.16315421e-02,\n",
              "          1.15582049e-01,  1.91884920e-01, -2.54947752e-01,\n",
              "          1.49591297e-01],\n",
              "        [ 8.86751935e-02,  5.29522970e-02,  7.81327337e-02,\n",
              "         -2.93190703e-02,  2.10617200e-01, -1.93255153e-02,\n",
              "          2.20909327e-01, -2.47060910e-01, -2.20146209e-01,\n",
              "         -3.43196958e-01],\n",
              "        [ 9.73350406e-02, -1.83787048e-01,  2.73883063e-03,\n",
              "         -2.73054659e-01,  2.38060176e-01,  2.71910012e-01,\n",
              "         -2.96342552e-01,  2.96216309e-01, -3.93539310e-01,\n",
              "          1.55965179e-01],\n",
              "        [ 3.94463360e-01, -1.37794867e-01, -7.15210810e-02,\n",
              "          8.98785666e-02, -3.15557092e-01, -1.31319523e-01,\n",
              "         -2.17626989e-01,  2.07088262e-01, -2.01692596e-01,\n",
              "          2.26908207e-01],\n",
              "        [-3.84030581e-01,  1.34189010e-01, -2.89349616e-01,\n",
              "          1.67427242e-01, -3.45884226e-02, -7.51057491e-02,\n",
              "         -3.99733484e-01, -9.87393856e-02, -1.58529848e-01,\n",
              "          2.37116337e-01],\n",
              "        [-3.58188421e-01,  1.05514742e-01,  7.06123561e-03,\n",
              "         -1.60613745e-01, -1.05909675e-01, -6.49050549e-02,\n",
              "          1.46708995e-01,  4.31538559e-02,  2.65814722e-01,\n",
              "          8.97238627e-02],\n",
              "        [-2.48500645e-01,  2.92838186e-01,  1.36524990e-01,\n",
              "         -3.00821036e-01, -1.61615893e-01,  1.15089327e-01,\n",
              "          6.32603690e-02,  2.51688838e-01,  1.41428009e-01,\n",
              "         -2.69093901e-01],\n",
              "        [-2.09236190e-01,  1.88978136e-01,  1.64221346e-01,\n",
              "         -1.15081407e-01, -5.34860902e-02, -3.74027621e-03,\n",
              "         -1.49515912e-01,  1.37329981e-01, -6.93195313e-02,\n",
              "          1.66962013e-01],\n",
              "        [-1.50788695e-01,  3.71260285e-01,  2.27136478e-01,\n",
              "          3.87398332e-01, -3.82700115e-01, -3.01135570e-01,\n",
              "          2.65878707e-01,  6.90416843e-02, -2.85631746e-01,\n",
              "         -4.63991642e-01],\n",
              "        [ 2.45661452e-01, -1.86787114e-01, -1.44301042e-01,\n",
              "          3.62805873e-02, -1.43032640e-01,  2.62619644e-01,\n",
              "          8.03986117e-02,  4.48991269e-01, -4.23716694e-01,\n",
              "         -3.32905173e-01],\n",
              "        [-1.37860939e-01,  2.03236099e-02,  1.44220218e-01,\n",
              "          2.45088771e-01,  1.05259746e-01,  1.56066418e-01,\n",
              "          4.42382507e-02,  8.53239223e-02, -2.94125825e-01,\n",
              "         -5.22732176e-02],\n",
              "        [-3.47139150e-01, -2.35909343e-01, -9.50491428e-02,\n",
              "         -5.68356998e-02,  3.20325553e-01,  3.57633471e-01,\n",
              "          1.62614256e-01, -1.67845339e-01,  1.33339912e-02,\n",
              "         -7.73579255e-02],\n",
              "        [ 2.03944430e-01,  2.39416242e-01, -3.15057248e-01,\n",
              "          2.05758847e-02, -1.36446252e-01,  1.38168801e-02,\n",
              "          3.37776065e-01, -1.94437265e-01, -1.47408947e-01,\n",
              "          1.57861277e-01],\n",
              "        [ 4.77685153e-01, -5.54397702e-01, -3.19086879e-01,\n",
              "         -4.72370893e-01, -8.49298090e-02, -9.32146385e-02,\n",
              "          4.24179405e-01,  1.13388427e-01,  3.15351129e-01,\n",
              "          7.33000785e-02],\n",
              "        [ 1.76644623e-02,  5.96849173e-02,  1.88976258e-01,\n",
              "         -1.15267970e-01,  1.53770134e-01, -1.96760908e-01,\n",
              "          2.12456837e-01, -1.37284920e-01, -2.68751919e-01,\n",
              "          2.97329247e-01],\n",
              "        [-2.48588890e-01, -8.88053402e-02,  2.95949727e-01,\n",
              "          4.29195464e-01, -3.42588842e-01,  9.02721211e-02,\n",
              "         -3.57914865e-01,  1.36889771e-01, -7.13967159e-02,\n",
              "         -3.08957040e-01],\n",
              "        [-1.50147557e-01, -9.02108289e-03, -2.50241488e-01,\n",
              "         -8.83735493e-02, -3.32030386e-01,  5.53980768e-01,\n",
              "          1.02590665e-01, -2.85820991e-01, -4.01900746e-02,\n",
              "         -1.76019683e-01],\n",
              "        [ 4.41022702e-02,  3.79670084e-01,  2.13446617e-01,\n",
              "         -5.59409410e-02, -3.43970060e-01,  3.00568521e-01,\n",
              "         -2.40020171e-01,  2.86980182e-01, -2.87329078e-01,\n",
              "         -1.57981277e-01],\n",
              "        [-2.48378366e-01,  1.16683342e-01, -1.16039529e-01,\n",
              "          2.85976291e-01,  3.06152314e-01,  5.49719371e-02,\n",
              "         -2.30954602e-01, -1.43895313e-01, -2.44155545e-02,\n",
              "          1.24355800e-01],\n",
              "        [-1.31978318e-01,  1.33261587e-02,  2.68063009e-01,\n",
              "         -1.38986915e-01, -1.52287930e-01,  2.97844946e-01,\n",
              "         -1.60760716e-01, -5.96204661e-02,  3.80761117e-01,\n",
              "         -1.01280481e-01],\n",
              "        [ 2.33252719e-01, -1.94641769e-01,  2.63819396e-02,\n",
              "          2.26524755e-01,  1.06627151e-01,  1.06426373e-01,\n",
              "         -2.01142713e-01, -3.78324687e-01,  6.44389838e-02,\n",
              "          2.21430287e-01],\n",
              "        [-9.27798077e-02, -3.06420803e-01,  3.90902191e-01,\n",
              "          1.12484828e-01, -3.76408070e-01,  3.53480816e-01,\n",
              "          1.52303100e-01, -5.52975714e-01,  2.30938047e-01,\n",
              "          1.58336218e-02],\n",
              "        [ 1.38058588e-01, -2.45887175e-01, -1.03956014e-01,\n",
              "          3.95565659e-01,  7.93792401e-03, -1.54096335e-01,\n",
              "          8.75279903e-02,  2.16825411e-01,  1.52737424e-02,\n",
              "         -3.36521119e-01],\n",
              "        [ 2.06892267e-01,  7.70847499e-02,  1.71634629e-01,\n",
              "         -2.64486432e-01,  2.33033642e-01, -1.62739754e-01,\n",
              "         -9.77781191e-02,  2.60821760e-01, -3.15562427e-01,\n",
              "          3.83639723e-01],\n",
              "        [-2.98739314e-01,  1.10118926e-01, -9.07783210e-02,\n",
              "         -1.97539061e-01,  3.85205448e-01, -3.60692680e-01,\n",
              "         -1.57525852e-01,  1.96176901e-01,  2.58175340e-02,\n",
              "          4.99525458e-01],\n",
              "        [ 3.07437897e-01,  3.23008709e-02, -1.61492676e-02,\n",
              "         -2.14281544e-01, -2.12619126e-01,  2.34315604e-01,\n",
              "         -8.40574875e-02, -1.97006926e-01,  2.31603399e-01,\n",
              "         -4.08164784e-02],\n",
              "        [-3.29765379e-01,  4.09425676e-01,  9.63123813e-02,\n",
              "          3.22379261e-01, -5.04508801e-02,  8.69545564e-02,\n",
              "          1.88705325e-01, -6.30888715e-02, -1.46077782e-01,\n",
              "         -2.09547594e-01],\n",
              "        [ 9.24926400e-02,  1.64096653e-01, -1.76962450e-01,\n",
              "         -1.62845701e-01, -4.44410652e-01, -2.38053218e-01,\n",
              "          1.26850698e-02,  3.07734519e-01,  2.93547362e-01,\n",
              "          6.82642683e-02],\n",
              "        [ 2.88999915e-01, -2.51281857e-01,  3.03821802e-01,\n",
              "         -1.03392646e-01, -4.76259619e-01,  4.65567440e-01,\n",
              "         -1.61356017e-01,  2.28119209e-01, -3.46697986e-01,\n",
              "         -8.10662806e-02],\n",
              "        [ 3.62286925e-01,  9.61030498e-02, -2.11869106e-01,\n",
              "          5.57249188e-02, -1.96887732e-01,  2.95248806e-01,\n",
              "          2.80845076e-01, -3.49611700e-01, -5.27041219e-02,\n",
              "         -3.00044298e-01],\n",
              "        [ 2.79684991e-01,  8.22912157e-02,  8.22410285e-02,\n",
              "          4.78700809e-02, -1.86576456e-01,  2.56524950e-01,\n",
              "          1.83536299e-02,  8.54879543e-02, -1.99137717e-01,\n",
              "          1.00360587e-01],\n",
              "        [ 2.82248914e-01, -9.23375636e-02, -2.13440254e-01,\n",
              "         -1.28281992e-02, -8.36400837e-02,  4.36710864e-02,\n",
              "         -4.23247963e-02, -8.68985578e-02,  3.66644353e-01,\n",
              "         -3.97350974e-02],\n",
              "        [ 1.52991980e-01, -2.96439290e-01,  3.53618383e-01,\n",
              "          2.70159572e-01,  1.75561920e-01,  2.23043323e-01,\n",
              "         -3.26604158e-01, -3.84058565e-01,  3.01676273e-01,\n",
              "         -1.14368692e-01],\n",
              "        [ 3.65297019e-01, -1.19899355e-01,  2.52603251e-03,\n",
              "          6.78045005e-02,  9.45004746e-02,  1.42960340e-01,\n",
              "         -1.48399100e-01,  1.12309478e-01,  1.65187754e-02,\n",
              "         -1.69454262e-01],\n",
              "        [ 3.25564057e-01, -4.21707362e-01,  4.28745925e-01,\n",
              "          4.29521024e-01, -3.29206735e-01, -2.43185341e-01,\n",
              "         -3.82659078e-01,  2.80196071e-01, -2.04977632e-01,\n",
              "         -8.35263059e-02],\n",
              "        [-3.95114094e-01,  3.47260535e-01, -2.09550843e-01,\n",
              "          1.01695605e-01, -1.15409233e-01,  7.83021599e-02,\n",
              "         -2.31629640e-01,  2.84254909e-01,  2.10930169e-01,\n",
              "          7.94699639e-02],\n",
              "        [ 1.64416552e-01, -3.21346894e-02,  2.10400999e-01,\n",
              "          2.25595891e-01, -3.28876883e-01,  1.90272734e-01,\n",
              "         -1.00767568e-01, -1.82426833e-02, -1.75498538e-02,\n",
              "         -3.00957054e-01],\n",
              "        [ 2.12503280e-02,  1.37358174e-01, -2.82320380e-01,\n",
              "         -2.91629940e-01,  8.99598971e-02,  2.57149607e-01,\n",
              "          7.62305185e-02, -2.84366876e-01,  2.53571004e-01,\n",
              "          8.73969719e-02],\n",
              "        [-4.15505856e-01, -1.12233631e-01, -1.70100838e-01,\n",
              "          2.89044797e-01,  5.14457896e-02, -1.05253309e-01,\n",
              "         -4.02725428e-01,  4.03746516e-01, -4.25336696e-02,\n",
              "          2.74563581e-01],\n",
              "        [-2.85587404e-02,  4.94278744e-02,  9.37394276e-02,\n",
              "         -3.34000513e-02, -2.08336934e-01, -1.50881158e-02,\n",
              "         -8.13703164e-02,  4.19816673e-02,  9.38648209e-02,\n",
              "         -4.33491506e-02],\n",
              "        [-1.73542082e-01, -2.13714391e-01,  2.15129197e-01,\n",
              "         -2.94900894e-01,  2.23477006e-01, -8.81356597e-02,\n",
              "          1.26484841e-01, -5.79835847e-02,  2.41777152e-01,\n",
              "          2.52165347e-01],\n",
              "        [-2.18441952e-02,  3.52799706e-02,  8.87644142e-02,\n",
              "         -2.26783425e-01, -1.90084398e-01,  3.68672758e-02,\n",
              "          1.09713115e-01,  1.62894800e-01,  1.12694196e-01,\n",
              "          1.85590446e-01],\n",
              "        [-5.00955693e-02, -1.26489818e-01, -2.07537577e-01,\n",
              "          1.46893591e-01, -1.58131212e-01,  7.77969956e-02,\n",
              "         -4.28514749e-01, -2.29945257e-01, -6.12791255e-03,\n",
              "         -5.33414707e-02],\n",
              "        [ 4.82822172e-02,  1.03766248e-01,  2.30424285e-01,\n",
              "         -2.68903732e-01,  1.30951516e-02, -1.28257856e-01,\n",
              "          2.27324143e-01,  8.26503932e-02, -1.10111311e-01,\n",
              "          3.66062999e-01],\n",
              "        [-1.96745336e-01,  6.80702552e-02, -2.20977336e-01,\n",
              "         -2.26040736e-01,  9.26247835e-02,  1.88643053e-01,\n",
              "          2.06876278e-01,  1.42891854e-01,  1.52602494e-01,\n",
              "         -2.41756871e-01],\n",
              "        [-2.76581377e-01, -2.05082417e-01,  1.00260459e-01,\n",
              "          1.27307065e-02, -1.90522224e-01, -4.08195168e-01,\n",
              "         -3.23266909e-02,  3.14877868e-01,  7.51745328e-02,\n",
              "          3.87010634e-01],\n",
              "        [ 6.28180355e-02,  2.12074265e-01, -1.53071746e-01,\n",
              "         -1.25627248e-02, -8.57034698e-02,  7.59436414e-02,\n",
              "         -1.35263011e-01,  1.74469093e-03,  1.54673502e-01,\n",
              "         -1.26804849e-02],\n",
              "        [ 1.64291069e-01, -6.26210943e-02,  1.54917032e-01,\n",
              "          1.73047557e-02,  2.01997072e-01, -2.39334404e-01,\n",
              "         -1.14418544e-01,  7.40861669e-02, -1.65883794e-01,\n",
              "          1.75185710e-01],\n",
              "        [-2.80055583e-01, -2.37756565e-01, -8.67724121e-02,\n",
              "         -1.63511559e-01, -6.53552189e-02,  1.03229173e-01,\n",
              "          1.70789167e-01, -2.39629954e-01,  2.78111368e-01,\n",
              "          2.01484188e-01],\n",
              "        [-1.82771966e-01, -3.32691111e-02,  3.17898750e-01,\n",
              "         -1.68205276e-01,  1.10504180e-01, -3.47006053e-01,\n",
              "         -2.73885746e-02, -1.93244487e-01,  3.69110405e-01,\n",
              "         -3.44336256e-02],\n",
              "        [-1.64034948e-01, -7.65190497e-02, -2.82457203e-01,\n",
              "          1.67695060e-01,  1.29178032e-01,  2.23937593e-02,\n",
              "          3.10290195e-02,  1.44811720e-01, -2.73505121e-01,\n",
              "          2.52339900e-01],\n",
              "        [ 7.34464871e-03, -2.02028334e-01, -8.33396986e-02,\n",
              "         -7.21198693e-02,  6.84682131e-02,  2.40670711e-01,\n",
              "         -1.01758599e-01, -6.41906336e-02, -2.20478252e-01,\n",
              "          1.74042210e-01],\n",
              "        [ 2.90167332e-01, -2.56853908e-01,  3.36423457e-01,\n",
              "          2.14460269e-01,  2.76573330e-01, -6.76056817e-02,\n",
              "          3.46607029e-01,  1.09057344e-01, -1.09418549e-01,\n",
              "         -5.21048084e-02],\n",
              "        [-1.24168053e-01,  3.25079381e-01,  1.18189938e-01,\n",
              "         -5.44543331e-03,  9.25031230e-02, -2.89238840e-01,\n",
              "         -2.65569001e-01,  1.63537547e-01, -4.98747453e-02,\n",
              "         -2.46996984e-01],\n",
              "        [ 2.18837544e-01, -2.63758749e-01, -2.52005577e-01,\n",
              "          7.95069039e-02,  4.70099807e-01,  2.36870766e-01,\n",
              "          3.14129591e-01, -2.42454067e-01, -2.11127028e-01,\n",
              "          2.71470875e-01],\n",
              "        [ 2.49210045e-01, -2.48238191e-01, -3.84894735e-03,\n",
              "          2.36709088e-01, -2.50879228e-01,  2.30833277e-01,\n",
              "         -4.00530398e-02,  1.83693394e-02, -3.31026949e-02,\n",
              "          8.72208029e-02],\n",
              "        [-1.03604160e-01, -1.30753189e-01, -6.26532882e-02,\n",
              "         -1.54682443e-01, -3.13313790e-02,  2.33542547e-01,\n",
              "         -9.53724235e-02, -1.56973630e-01,  6.60455553e-03,\n",
              "          1.53267011e-01],\n",
              "        [ 2.17037335e-01,  7.66777098e-02,  2.51819730e-01,\n",
              "         -2.11076498e-01, -1.02320284e-01,  2.14332163e-01,\n",
              "          8.73441845e-02,  3.59137356e-02,  4.39571664e-02,\n",
              "         -2.13105544e-01],\n",
              "        [ 1.09553531e-01,  2.64785141e-01,  4.03965592e-01,\n",
              "         -2.51377374e-01, -1.64389342e-01,  1.60254911e-02,\n",
              "         -2.25275215e-02,  2.71931082e-01, -1.13870949e-01,\n",
              "         -3.78593653e-01],\n",
              "        [-1.37921765e-01, -1.19839467e-01,  2.82341450e-01,\n",
              "         -9.92496535e-02, -3.14911902e-02,  3.47275674e-01,\n",
              "          4.03682500e-01, -4.15147319e-02,  9.02245864e-02,\n",
              "         -3.35113853e-01],\n",
              "        [ 4.74656187e-03,  3.80701214e-01, -2.22849786e-01,\n",
              "          1.83763579e-01, -2.61615038e-01,  8.36270209e-03,\n",
              "          2.76194364e-01, -3.08861613e-01,  1.24660753e-01,\n",
              "          1.36453286e-01],\n",
              "        [ 9.72808003e-02,  4.02158529e-01,  1.44989327e-01,\n",
              "         -2.61569768e-03,  2.06777245e-01, -2.75704619e-02,\n",
              "         -1.65513739e-01, -3.26670736e-01,  3.83845478e-01,\n",
              "         -2.57308096e-01],\n",
              "        [-1.47899076e-01,  2.16451451e-01,  6.92734048e-02,\n",
              "          2.80539483e-01, -5.83587773e-03, -6.57064468e-02,\n",
              "          2.99142033e-01, -2.48250663e-01,  7.30599910e-02,\n",
              "          2.48885468e-01],\n",
              "        [ 9.18821469e-02,  2.44399071e-01,  2.56549597e-01,\n",
              "         -2.95267135e-01,  7.18587427e-04,  5.92489392e-02,\n",
              "          6.46427423e-02,  5.54703735e-02, -1.90519273e-01,\n",
              "         -2.31506079e-01]], dtype=float32),\n",
              " array([-0.10685495,  0.07981853, -0.03671511, -0.06218904,  0.05007001,\n",
              "         0.23629835, -0.00603004,  0.07111987, -0.23242584,  0.00690847],\n",
              "       dtype=float32)]"
            ]
          },
          "metadata": {},
          "execution_count": 14
        }
      ]
    }
  ]
}